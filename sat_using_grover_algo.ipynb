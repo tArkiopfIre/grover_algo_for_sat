{
 "cells": [
  {
   "cell_type": "code",
   "execution_count": 1,
   "id": "7ddf8ccd",
   "metadata": {},
   "outputs": [
    {
     "name": "stdout",
     "output_type": "stream",
     "text": [
      "Defaulting to user installation because normal site-packages is not writeable\n",
      "Requirement already satisfied: qiskit in c:\\users\\asus\\appdata\\roaming\\python\\python39\\site-packages (0.36.2)\n",
      "Requirement already satisfied: qiskit-terra==0.20.2 in c:\\users\\asus\\appdata\\roaming\\python\\python39\\site-packages (from qiskit) (0.20.2)\n",
      "Requirement already satisfied: qiskit-aer==0.10.4 in c:\\users\\asus\\appdata\\roaming\\python\\python39\\site-packages (from qiskit) (0.10.4)\n",
      "Requirement already satisfied: qiskit-ignis==0.7.1 in c:\\users\\asus\\appdata\\roaming\\python\\python39\\site-packages (from qiskit) (0.7.1)\n",
      "Requirement already satisfied: qiskit-ibmq-provider==0.19.1 in c:\\users\\asus\\appdata\\roaming\\python\\python39\\site-packages (from qiskit) (0.19.1)\n",
      "Requirement already satisfied: scipy>=1.0 in c:\\programdata\\anaconda3\\lib\\site-packages (from qiskit-aer==0.10.4->qiskit) (1.7.3)\n",
      "Requirement already satisfied: numpy>=1.16.3 in c:\\programdata\\anaconda3\\lib\\site-packages (from qiskit-aer==0.10.4->qiskit) (1.21.5)\n",
      "Requirement already satisfied: python-dateutil>=2.8.0 in c:\\programdata\\anaconda3\\lib\\site-packages (from qiskit-ibmq-provider==0.19.1->qiskit) (2.8.2)\n",
      "Requirement already satisfied: websockets>=10.0 in c:\\users\\asus\\appdata\\roaming\\python\\python39\\site-packages (from qiskit-ibmq-provider==0.19.1->qiskit) (10.3)\n",
      "Requirement already satisfied: websocket-client>=1.0.1 in c:\\users\\asus\\appdata\\roaming\\python\\python39\\site-packages (from qiskit-ibmq-provider==0.19.1->qiskit) (1.3.2)\n",
      "Requirement already satisfied: urllib3>=1.21.1 in c:\\programdata\\anaconda3\\lib\\site-packages (from qiskit-ibmq-provider==0.19.1->qiskit) (1.26.9)\n",
      "Requirement already satisfied: requests-ntlm>=1.1.0 in c:\\users\\asus\\appdata\\roaming\\python\\python39\\site-packages (from qiskit-ibmq-provider==0.19.1->qiskit) (1.1.0)\n",
      "Requirement already satisfied: requests>=2.19 in c:\\programdata\\anaconda3\\lib\\site-packages (from qiskit-ibmq-provider==0.19.1->qiskit) (2.27.1)\n",
      "Requirement already satisfied: setuptools>=40.1.0 in c:\\programdata\\anaconda3\\lib\\site-packages (from qiskit-ignis==0.7.1->qiskit) (61.2.0)\n",
      "Requirement already satisfied: retworkx>=0.8.0 in c:\\users\\asus\\appdata\\roaming\\python\\python39\\site-packages (from qiskit-ignis==0.7.1->qiskit) (0.11.0)\n",
      "Requirement already satisfied: stevedore>=3.0.0 in c:\\users\\asus\\appdata\\roaming\\python\\python39\\site-packages (from qiskit-terra==0.20.2->qiskit) (3.5.0)\n",
      "Requirement already satisfied: dill>=0.3 in c:\\users\\asus\\appdata\\roaming\\python\\python39\\site-packages (from qiskit-terra==0.20.2->qiskit) (0.3.5.1)\n",
      "Requirement already satisfied: sympy>=1.3 in c:\\programdata\\anaconda3\\lib\\site-packages (from qiskit-terra==0.20.2->qiskit) (1.10.1)\n",
      "Requirement already satisfied: psutil>=5 in c:\\programdata\\anaconda3\\lib\\site-packages (from qiskit-terra==0.20.2->qiskit) (5.8.0)\n",
      "Requirement already satisfied: tweedledum<2.0,>=1.1 in c:\\users\\asus\\appdata\\roaming\\python\\python39\\site-packages (from qiskit-terra==0.20.2->qiskit) (1.1.1)\n",
      "Requirement already satisfied: python-constraint>=1.4 in c:\\users\\asus\\appdata\\roaming\\python\\python39\\site-packages (from qiskit-terra==0.20.2->qiskit) (1.4.0)\n",
      "Requirement already satisfied: ply>=3.10 in c:\\users\\asus\\appdata\\roaming\\python\\python39\\site-packages (from qiskit-terra==0.20.2->qiskit) (3.11)\n",
      "Requirement already satisfied: six>=1.5 in c:\\programdata\\anaconda3\\lib\\site-packages (from python-dateutil>=2.8.0->qiskit-ibmq-provider==0.19.1->qiskit) (1.16.0)\n",
      "Requirement already satisfied: certifi>=2017.4.17 in c:\\programdata\\anaconda3\\lib\\site-packages (from requests>=2.19->qiskit-ibmq-provider==0.19.1->qiskit) (2021.10.8)\n",
      "Requirement already satisfied: charset-normalizer~=2.0.0 in c:\\programdata\\anaconda3\\lib\\site-packages (from requests>=2.19->qiskit-ibmq-provider==0.19.1->qiskit) (2.0.4)\n",
      "Requirement already satisfied: idna<4,>=2.5 in c:\\programdata\\anaconda3\\lib\\site-packages (from requests>=2.19->qiskit-ibmq-provider==0.19.1->qiskit) (3.3)\n",
      "Requirement already satisfied: cryptography>=1.3 in c:\\programdata\\anaconda3\\lib\\site-packages (from requests-ntlm>=1.1.0->qiskit-ibmq-provider==0.19.1->qiskit) (3.4.8)\n",
      "Requirement already satisfied: ntlm-auth>=1.0.2 in c:\\users\\asus\\appdata\\roaming\\python\\python39\\site-packages (from requests-ntlm>=1.1.0->qiskit-ibmq-provider==0.19.1->qiskit) (1.5.0)\n",
      "Requirement already satisfied: cffi>=1.12 in c:\\programdata\\anaconda3\\lib\\site-packages (from cryptography>=1.3->requests-ntlm>=1.1.0->qiskit-ibmq-provider==0.19.1->qiskit) (1.15.0)\n",
      "Requirement already satisfied: pycparser in c:\\programdata\\anaconda3\\lib\\site-packages (from cffi>=1.12->cryptography>=1.3->requests-ntlm>=1.1.0->qiskit-ibmq-provider==0.19.1->qiskit) (2.21)\n",
      "Requirement already satisfied: pbr!=2.1.0,>=2.0.0 in c:\\users\\asus\\appdata\\roaming\\python\\python39\\site-packages (from stevedore>=3.0.0->qiskit-terra==0.20.2->qiskit) (5.9.0)\n",
      "Requirement already satisfied: mpmath>=0.19 in c:\\programdata\\anaconda3\\lib\\site-packages (from sympy>=1.3->qiskit-terra==0.20.2->qiskit) (1.2.1)\n",
      "Note: you may need to restart the kernel to use updated packages.\n"
     ]
    }
   ],
   "source": [
    "pip install qiskit"
   ]
  },
  {
   "cell_type": "code",
   "execution_count": 2,
   "id": "821031e1",
   "metadata": {},
   "outputs": [],
   "source": [
    "from qiskit import *\n",
    "from qiskit.circuit.library import Diagonal\n",
    "from qiskit.quantum_info import Statevector\n",
    "from qiskit.visualization import plot_histogram\n",
    "import numpy as np"
   ]
  },
  {
   "cell_type": "code",
   "execution_count": 3,
   "id": "25c8ff86",
   "metadata": {},
   "outputs": [],
   "source": [
    "q = QuantumRegister(5,'q')\n",
    "c = ClassicalRegister(5,'c')"
   ]
  },
  {
   "cell_type": "code",
   "execution_count": 4,
   "id": "c3e996c9",
   "metadata": {},
   "outputs": [],
   "source": [
    "def diffuser(n):\n",
    "    diffuser_c = QuantumCircuit(n)\n",
    "    for qubit in range(n):\n",
    "        diffuser_c.h(qubit)\n",
    "    for qubit in range(n):\n",
    "        diffuser_c.x(qubit)\n",
    "    diffuser_c.h(n-1)\n",
    "    diffuser_c.mct(list(range(n-1)), n-1)\n",
    "    diffuser_c.h(n-1)\n",
    "    for qubit in range(n):\n",
    "        diffuser_c.x(qubit)\n",
    "    for qubit in range(n):\n",
    "        diffuser_c.h(qubit)\n",
    "    \n",
    "    U_s = diffuser_c.to_gate()\n",
    "    U_s.name = \"U$_s$\"\n",
    "    \n",
    "    return U_s"
   ]
  },
  {
   "cell_type": "code",
   "execution_count": 6,
   "id": "3242d425",
   "metadata": {},
   "outputs": [],
   "source": [
    "qc = QuantumCircuit(q,c)\n",
    "\n",
    "r = int(np.round(np.pi/(4*np.arcsin(np.sqrt(5/2**5)))-1/2))\n",
    "for qubit in range(5):\n",
    "    qc.h(qubit)\n",
    "\n",
    "for _ in range(r):\n",
    "      s1_state = Statevector.from_label('11011')\n",
    "      s1_circuit = Diagonal((-1)**s1_state.data)\n",
    "      qc.append(s1_circuit,[0,1,2,3,4])\n",
    "      s2_state = Statevector.from_label('11110')\n",
    "      s2_circuit = Diagonal((-1)**s2_state.data)\n",
    "      qc.append(s2_circuit,[0,1,2,3,4])\n",
    "      s3_state = Statevector.from_label('11010')\n",
    "      s3_circuit = Diagonal((-1)**s3_state.data)\n",
    "      qc.append(s3_circuit,[0,1,2,3,4])\n",
    "      s4_state = Statevector.from_label('11001')\n",
    "      s4_circuit = Diagonal((-1)**s4_state.data)\n",
    "      qc.append(s4_circuit,[0,1,2,3,4])\n",
    "      s5_state = Statevector.from_label('11000')\n",
    "      s5_circuit = Diagonal((-1)**s5_state.data)\n",
    "      qc.append(s5_circuit,[0,1,2,3,4])\n",
    "      \n",
    "      qc.append(diffuser(5),[0,1,2,3,4])\n",
    "\n",
    "\n",
    "    "
   ]
  },
  {
   "cell_type": "code",
   "execution_count": 7,
   "id": "905f7643",
   "metadata": {},
   "outputs": [
    {
     "name": "stdout",
     "output_type": "stream",
     "text": [
      "Statevector([-0.06629126-1.44217454e-16j, -0.06629126-2.11316390e-16j,\n",
      "             -0.06629126-2.12702416e-16j, -0.06629126-2.27759648e-16j,\n",
      "             -0.06629126-2.29847644e-16j, -0.06629126-2.20618748e-16j,\n",
      "             -0.06629126-2.02727315e-16j, -0.06629126-2.24723441e-16j,\n",
      "             -0.06629126-2.45829408e-16j, -0.06629126-1.43764308e-16j,\n",
      "             -0.06629126-2.47874756e-16j, -0.06629126-2.29540697e-16j,\n",
      "             -0.06629126-1.88699670e-16j, -0.06629126-2.62737500e-16j,\n",
      "             -0.06629126-2.28647882e-16j, -0.06629126-2.50644008e-16j,\n",
      "             -0.06629126-2.22300184e-16j, -0.06629126-1.71437924e-16j,\n",
      "             -0.06629126-1.73172648e-16j, -0.06629126-1.98638221e-16j,\n",
      "             -0.06629126-1.42850129e-16j, -0.06629126-2.30765747e-16j,\n",
      "             -0.06629126-1.01493706e-16j, -0.06629126-2.02454892e-16j,\n",
      "             -0.41984465-1.11220913e-15j, -0.41984465-1.17056417e-15j,\n",
      "             -0.41984465-1.22517281e-15j, -0.41984465-1.17861222e-15j,\n",
      "             -0.06629126-2.70594103e-16j, -0.06629126-2.36246858e-16j,\n",
      "             -0.41984465-1.29921064e-15j, -0.06629126-2.43462692e-16j],\n",
      "            dims=(2, 2, 2, 2, 2))\n"
     ]
    }
   ],
   "source": [
    "statevector_sim = Aer.get_backend('statevector_simulator')\n",
    "job = execute(qc,statevector_sim)\n",
    "result = job.result()\n",
    "sv = result.get_statevector()\n",
    "print(sv)"
   ]
  },
  {
   "cell_type": "code",
   "execution_count": 8,
   "id": "ed378a78",
   "metadata": {},
   "outputs": [
    {
     "data": {
      "text/plain": [
       "<qiskit.circuit.instructionset.InstructionSet at 0x238493eef80>"
      ]
     },
     "execution_count": 8,
     "metadata": {},
     "output_type": "execute_result"
    }
   ],
   "source": [
    "qc.measure(0,0)\n",
    "qc.measure(1,1)\n",
    "qc.measure(2,2)\n",
    "qc.measure(3,3)\n",
    "qc.measure(4,4)"
   ]
  },
  {
   "cell_type": "code",
   "execution_count": 9,
   "id": "7d06b2a9",
   "metadata": {},
   "outputs": [
    {
     "data": {
      "image/png": "[encoded data removed]",
      "text/plain": [
       "<Figure size 2880x720 with 1 Axes>"
      ]
     },
     "execution_count": 9,
     "metadata": {},
     "output_type": "execute_result"
    }
   ],
   "source": [
    "backend = Aer.get_backend('qasm_simulator')\n",
    "job = execute([qc], backend=backend, shots=1000)\n",
    "result = job.result()\n",
    "counts = result.get_counts(qc)\n",
    "plot_histogram(counts,figsize=(40,10))"
   ]
  }
 ],
 "metadata": {
  "kernelspec": {
   "display_name": "Python 3 (ipykernel)",
   "language": "python",
   "name": "python3"
  },
  "language_info": {
   "codemirror_mode": {
    "name": "ipython",
    "version": 3
   },
   "file_extension": ".py",
   "mimetype": "text/x-python",
   "name": "python",
   "nbconvert_exporter": "python",
   "pygments_lexer": "ipython3",
   "version": "3.9.12"
  }
 },
 "nbformat": 4,
 "nbformat_minor": 5
}
